{
 "cells": [
  {
   "cell_type": "code",
   "execution_count": 1,
   "metadata": {},
   "outputs": [],
   "source": [
    "import pandas as pd\n",
    "\n",
    "\n",
    "def data_loader(path):\n",
    "    table = pd.read_csv(path)\n",
    "    return table\n"
   ]
  },
  {
   "cell_type": "code",
   "execution_count": 2,
   "metadata": {},
   "outputs": [],
   "source": [
    "table = data_loader('../archive (1)/BrentOilPrices.csv')"
   ]
  },
  {
   "cell_type": "code",
   "execution_count": 3,
   "metadata": {},
   "outputs": [],
   "source": [
    "from sklearn.preprocessing import MinMaxScaler\n",
    "\n",
    "import numpy as np\n",
    "import tensorflow as tf\n",
    "from tensorflow.keras.models import Sequential\n",
    "from tensorflow.keras.layers import SimpleRNN, Dense, LSTM\n",
    "\n",
    "\n",
    "def index_change(table, col_name, col_target_name):\n",
    "    table = table.set_index(col_name)\n",
    "    table.index = pd.to_datetime(table.index)\n",
    "    for col in table.columns:\n",
    "        scaler = MinMaxScaler()\n",
    "        table[col] = scaler.fit_transform(table)\n",
    "    x = table[col_target_name].values.tolist()\n",
    "    return x"
   ]
  },
  {
   "cell_type": "code",
   "execution_count": 5,
   "metadata": {},
   "outputs": [],
   "source": [
    "x = index_change(table, 'Date', 'Price')"
   ]
  },
  {
   "cell_type": "code",
   "execution_count": 8,
   "metadata": {},
   "outputs": [],
   "source": [
    "def train_test(data, data_cut, step):\n",
    "    train, test = data[:data_cut], data[data_cut:]\n",
    "    train = np.append(train, np.repeat(train[-1], step))\n",
    "    test = np.append(test, np.repeat(test[-1], step))\n",
    "    return train, test"
   ]
  },
  {
   "cell_type": "code",
   "execution_count": 10,
   "metadata": {},
   "outputs": [],
   "source": [
    "train, test = train_test(x, 650, 4)"
   ]
  },
  {
   "cell_type": "code",
   "execution_count": 11,
   "metadata": {},
   "outputs": [],
   "source": [
    "def convert_to_matrix(data, step):\n",
    "    x, y = [], []\n",
    "    for i in range(len(data) - step):\n",
    "        d = i + step\n",
    "        x.append(data[i:d])\n",
    "        y.append(data[d])\n",
    "    return np.array(x), np.array(y)\n"
   ]
  },
  {
   "cell_type": "code",
   "execution_count": 12,
   "metadata": {},
   "outputs": [],
   "source": [
    "train_x, train_y = convert_to_matrix(train, 4)"
   ]
  },
  {
   "cell_type": "code",
   "execution_count": 13,
   "metadata": {},
   "outputs": [],
   "source": [
    "test_x, test_y = convert_to_matrix(test, 4)"
   ]
  },
  {
   "cell_type": "code",
   "execution_count": 14,
   "metadata": {},
   "outputs": [],
   "source": [
    "def reshape(train_x, test_x):\n",
    "    train_x = np.reshape(train_x, (train_x.shape[0], 1, train_x.shape[1]))\n",
    "    test_x = np.reshape(test_x, (test_x.shape[0], 1, test_x.shape[1]))\n",
    "    return train_x, test_x"
   ]
  },
  {
   "cell_type": "code",
   "execution_count": 15,
   "metadata": {},
   "outputs": [],
   "source": [
    "train_x, test_x = reshape(train_x,test_x)"
   ]
  },
  {
   "cell_type": "code",
   "execution_count": 16,
   "metadata": {},
   "outputs": [],
   "source": [
    "def create_model():\n",
    "    model = Sequential()\n",
    "    model.add(LSTM(64, activation='relu', input_shape=(1, 4)))\n",
    "    model.add(Dense(36, activation='relu'))\n",
    "    model.add(Dense(8, activation='relu'))\n",
    "    model.add(Dense(1))\n",
    "    model.compile(loss='mean_squared_error', optimizer='adam', metrics=['acc'])\n",
    "    return model"
   ]
  },
  {
   "cell_type": "code",
   "execution_count": 17,
   "metadata": {},
   "outputs": [],
   "source": [
    "model = create_model()"
   ]
  },
  {
   "cell_type": "code",
   "execution_count": 18,
   "metadata": {},
   "outputs": [],
   "source": [
    "def model_fit(train_x, train_y, epochs_count):\n",
    "    model.fit(train_x, train_y, epochs=epochs_count)"
   ]
  },
  {
   "cell_type": "code",
   "execution_count": 19,
   "metadata": {},
   "outputs": [
    {
     "name": "stdout",
     "output_type": "stream",
     "text": [
      "Epoch 1/10\n",
      "21/21 [==============================] - 1s 1ms/step - loss: 0.0015 - acc: 0.0000e+00\n",
      "Epoch 2/10\n",
      "21/21 [==============================] - 0s 1ms/step - loss: 2.4599e-04 - acc: 0.0000e+00\n",
      "Epoch 3/10\n",
      "21/21 [==============================] - 0s 1ms/step - loss: 2.0623e-04 - acc: 0.0000e+00\n",
      "Epoch 4/10\n",
      "21/21 [==============================] - 0s 1ms/step - loss: 2.0110e-04 - acc: 0.0000e+00\n",
      "Epoch 5/10\n",
      "21/21 [==============================] - 0s 1ms/step - loss: 1.9923e-04 - acc: 0.0000e+00\n",
      "Epoch 6/10\n",
      "21/21 [==============================] - 0s 1ms/step - loss: 1.8831e-04 - acc: 0.0000e+00\n",
      "Epoch 7/10\n",
      "21/21 [==============================] - 0s 1ms/step - loss: 1.7759e-04 - acc: 0.0000e+00\n",
      "Epoch 8/10\n",
      "21/21 [==============================] - 0s 1ms/step - loss: 1.6510e-04 - acc: 0.0000e+00\n",
      "Epoch 9/10\n",
      "21/21 [==============================] - 0s 1ms/step - loss: 1.4790e-04 - acc: 0.0000e+00\n",
      "Epoch 10/10\n",
      "21/21 [==============================] - 0s 988us/step - loss: 1.2752e-04 - acc: 0.0000e+00\n"
     ]
    }
   ],
   "source": [
    "model_fit(train_x, train_y, 10)"
   ]
  },
  {
   "cell_type": "code",
   "execution_count": null,
   "metadata": {},
   "outputs": [],
   "source": []
  }
 ],
 "metadata": {
  "kernelspec": {
   "display_name": "Python 3",
   "language": "python",
   "name": "python3"
  },
  "language_info": {
   "codemirror_mode": {
    "name": "ipython",
    "version": 3
   },
   "file_extension": ".py",
   "mimetype": "text/x-python",
   "name": "python",
   "nbconvert_exporter": "python",
   "pygments_lexer": "ipython3",
   "version": "3.11.0 (main, Oct 24 2022, 18:26:48) [MSC v.1933 64 bit (AMD64)]"
  },
  "orig_nbformat": 4,
  "vscode": {
   "interpreter": {
    "hash": "de47f5c92c0ee6f12a59a5613ac5feff6aab19ddff207ba0b3964cced08c4ccc"
   }
  }
 },
 "nbformat": 4,
 "nbformat_minor": 2
}
